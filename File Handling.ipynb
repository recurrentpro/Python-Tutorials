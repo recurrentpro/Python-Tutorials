{
 "cells": [
  {
   "cell_type": "markdown",
   "id": "e4c125fb",
   "metadata": {},
   "source": [
    "# File Writing"
   ]
  },
  {
   "cell_type": "markdown",
   "id": "4d0f421b",
   "metadata": {},
   "source": [
    "# Operaton\n",
    "#write text\n",
    "\n",
    "#update text\n",
    "\n",
    "#read text\n",
    "\n",
    "#save text"
   ]
  },
  {
   "cell_type": "markdown",
   "id": "0e88af17",
   "metadata": {},
   "source": [
    "# Function\n",
    "\n",
    "**function:**\n",
    "\n",
    "open()\n",
    "\n",
    "close()\n",
    "\n",
    "1) read()\n",
    "\n",
    "2) readline()\n",
    "\n",
    "3) write()\n",
    "\n",
    "4) writelines()\n",
    "\n",
    "5) seek() : defined the position\n",
    "\n",
    "6) tell() : find the position\n",
    "\n",
    "### Mode\n",
    "\n",
    "**Mode**\n",
    "\n",
    "\n",
    "1) w: writing\n",
    "\n",
    "2) r: reading\n",
    "\n",
    "3) a: appending\n",
    "\n",
    "4) rb: read in binary\n",
    "\n",
    "5) wb: write in binary"
   ]
  },
  {
   "cell_type": "code",
   "execution_count": null,
   "id": "e773e3d5",
   "metadata": {},
   "outputs": [],
   "source": [
    "f1 = open(file=\"mytext.txt\",mode=\"w\")"
   ]
  },
  {
   "cell_type": "code",
   "execution_count": null,
   "id": "68e85530",
   "metadata": {},
   "outputs": [],
   "source": [
    "\n",
    "f1.writelines(\"This is my first program\\n\")\n",
    "f1.writelines(\"This is my second program\")\n",
    "f1.close()"
   ]
  },
  {
   "cell_type": "code",
   "execution_count": null,
   "id": "be6b0d84",
   "metadata": {},
   "outputs": [],
   "source": [
    "with open(file=\"mytext1.txt\",mode=\"w\") as f1:\n",
    "    f1.writelines(\"This is my 1st program\\n\")\n",
    "    f1.writelines(\"This is my 2nd program\")\n",
    "    \n",
    "    "
   ]
  },
  {
   "cell_type": "markdown",
   "id": "8e83e5fe",
   "metadata": {},
   "source": [
    "# Updation"
   ]
  },
  {
   "cell_type": "code",
   "execution_count": null,
   "id": "e054b2c4",
   "metadata": {},
   "outputs": [],
   "source": [
    "f2 = open(file = \"mytext.txt\",mode=\"a\")\n",
    "\n",
    "f2.writelines(\"This is new 3rd line\\n\")\n",
    "f2.writelines(\"This is new 4th line\\n\")\n",
    "\n",
    "f2.close()"
   ]
  },
  {
   "cell_type": "code",
   "execution_count": null,
   "id": "1009cf30",
   "metadata": {},
   "outputs": [],
   "source": []
  },
  {
   "cell_type": "code",
   "execution_count": null,
   "id": "9ff0e858",
   "metadata": {},
   "outputs": [],
   "source": [
    "with open(file=\"mytext.txt\", mode=\"r\") as f50:\n",
    "    var1 = f50.readline()"
   ]
  },
  {
   "cell_type": "code",
   "execution_count": null,
   "id": "c0dfc507",
   "metadata": {},
   "outputs": [],
   "source": [
    "print(var1)"
   ]
  },
  {
   "cell_type": "code",
   "execution_count": null,
   "id": "6d579135",
   "metadata": {},
   "outputs": [],
   "source": [
    "#Read file\n",
    "\n",
    "f3 = open(file=\"python.txt\",mode=\"r\")\n",
    "\n",
    "print(f3.read())\n",
    "\n",
    "#print(f3.readline())\n",
    "\n",
    "f3.close()"
   ]
  },
  {
   "cell_type": "code",
   "execution_count": null,
   "id": "5c2240cd",
   "metadata": {},
   "outputs": [],
   "source": [
    "#Read file\n",
    "\n",
    "f3 = open(file=\"python.txt\",mode=\"r\")\n",
    "\n",
    "t = f3.read()\n",
    "\n",
    "#print(f3.readline())\n",
    "\n",
    "f3.close()"
   ]
  },
  {
   "cell_type": "code",
   "execution_count": null,
   "id": "d530a843",
   "metadata": {},
   "outputs": [],
   "source": [
    "type(t)"
   ]
  },
  {
   "cell_type": "code",
   "execution_count": null,
   "id": "c1875a2a",
   "metadata": {},
   "outputs": [],
   "source": [
    "t.count(\"Python's\")"
   ]
  },
  {
   "cell_type": "code",
   "execution_count": null,
   "id": "abcf538f",
   "metadata": {},
   "outputs": [],
   "source": [
    "t.index(\"Python's\", 213)"
   ]
  },
  {
   "cell_type": "markdown",
   "id": "1c3125bf",
   "metadata": {},
   "source": [
    "# File Reading"
   ]
  },
  {
   "cell_type": "code",
   "execution_count": null,
   "id": "be095cd7",
   "metadata": {},
   "outputs": [],
   "source": []
  },
  {
   "cell_type": "code",
   "execution_count": null,
   "id": "13f1911a",
   "metadata": {},
   "outputs": [],
   "source": [
    "#Read file\n",
    "\n",
    "f3 = open(file=\"python.txt\",mode=\"r\")\n",
    "\n",
    "f3.seek(212+4) #set position\n",
    "\n",
    "print(\"Current Position: \",f3.tell())\n",
    "\n",
    "print(f3.readline())\n",
    "\n",
    "#print(f3.readline())\n",
    "\n"
   ]
  },
  {
   "cell_type": "code",
   "execution_count": null,
   "id": "e3a423f7",
   "metadata": {},
   "outputs": [],
   "source": [
    "st1 = str(f3.read())\n",
    "print(st1)"
   ]
  },
  {
   "cell_type": "markdown",
   "id": "47436878",
   "metadata": {},
   "source": [
    "# OS Operation\n"
   ]
  },
  {
   "cell_type": "code",
   "execution_count": null,
   "id": "600bd0a6",
   "metadata": {},
   "outputs": [],
   "source": [
    "import os"
   ]
  },
  {
   "cell_type": "code",
   "execution_count": null,
   "id": "8492676f",
   "metadata": {},
   "outputs": [],
   "source": [
    "dir(os)"
   ]
  },
  {
   "cell_type": "code",
   "execution_count": null,
   "id": "72dc5ad3",
   "metadata": {},
   "outputs": [],
   "source": [
    "os.getcwd()"
   ]
  },
  {
   "cell_type": "code",
   "execution_count": null,
   "id": "26e16679",
   "metadata": {},
   "outputs": [],
   "source": [
    "os.chdir(\"D:\\Recurrent Learning\\Video\\Python Turorials\")"
   ]
  },
  {
   "cell_type": "code",
   "execution_count": null,
   "id": "8924c716",
   "metadata": {},
   "outputs": [],
   "source": [
    "os.getcwd()"
   ]
  },
  {
   "cell_type": "code",
   "execution_count": null,
   "id": "a27f074b",
   "metadata": {},
   "outputs": [],
   "source": [
    "os.mkdir(\"temp_dir\")"
   ]
  },
  {
   "cell_type": "code",
   "execution_count": null,
   "id": "df4b1852",
   "metadata": {},
   "outputs": [],
   "source": [
    "path = \"new_dir/analysis/titanic\""
   ]
  },
  {
   "cell_type": "code",
   "execution_count": null,
   "id": "1116a2c6",
   "metadata": {},
   "outputs": [],
   "source": [
    "os.makedirs(path)"
   ]
  },
  {
   "cell_type": "code",
   "execution_count": null,
   "id": "9f99a23c",
   "metadata": {},
   "outputs": [],
   "source": [
    "os.rmdir(\"temp_dir\")"
   ]
  },
  {
   "cell_type": "code",
   "execution_count": null,
   "id": "83c5ea26",
   "metadata": {},
   "outputs": [],
   "source": [
    "os.rename(\"new_dir\", \"New\")"
   ]
  },
  {
   "cell_type": "code",
   "execution_count": null,
   "id": "d522abaf",
   "metadata": {},
   "outputs": [],
   "source": [
    "current_dir = os.getcwd()\n",
    "current_dir"
   ]
  },
  {
   "cell_type": "code",
   "execution_count": null,
   "id": "f5ec3a5e",
   "metadata": {},
   "outputs": [],
   "source": [
    "os.path.join(current_dir, \"New\")"
   ]
  },
  {
   "cell_type": "code",
   "execution_count": null,
   "id": "5de32eb4",
   "metadata": {},
   "outputs": [],
   "source": [
    "if not os.path.exists(\"New\"):\n",
    "    os.mkdir(\"New\")"
   ]
  },
  {
   "cell_type": "code",
   "execution_count": null,
   "id": "a2d22186",
   "metadata": {},
   "outputs": [],
   "source": [
    "os.cpu_count()"
   ]
  },
  {
   "cell_type": "code",
   "execution_count": null,
   "id": "1627f381",
   "metadata": {},
   "outputs": [],
   "source": []
  },
  {
   "cell_type": "markdown",
   "id": "28796231",
   "metadata": {},
   "source": [
    "###### https://www.w3schools.com/python/module_os.asp?ref=escape.tech "
   ]
  },
  {
   "cell_type": "markdown",
   "id": "7eae3f69",
   "metadata": {},
   "source": [
    "# Pickle: "
   ]
  },
  {
   "cell_type": "code",
   "execution_count": 1,
   "id": "f8f22fa4",
   "metadata": {},
   "outputs": [],
   "source": [
    "dt = {\"Name\":[\"Rhaul\",\"Priya\",\"Shyam\"],\"Sector\":[\"IT\",\"HR\",\"IT\"]}"
   ]
  },
  {
   "cell_type": "code",
   "execution_count": 2,
   "id": "49e837d6",
   "metadata": {},
   "outputs": [
    {
     "data": {
      "text/plain": [
       "{'Name': ['Rhaul', 'Priya', 'Shyam'], 'Sector': ['IT', 'HR', 'IT']}"
      ]
     },
     "execution_count": 2,
     "metadata": {},
     "output_type": "execute_result"
    }
   ],
   "source": [
    "dt"
   ]
  },
  {
   "cell_type": "code",
   "execution_count": 3,
   "id": "6b7b8687",
   "metadata": {},
   "outputs": [
    {
     "name": "stderr",
     "output_type": "stream",
     "text": [
      "C:\\Users\\myrit\\anaconda3\\Lib\\site-packages\\pandas\\core\\arrays\\masked.py:60: UserWarning: Pandas requires version '1.3.6' or newer of 'bottleneck' (version '1.3.5' currently installed).\n",
      "  from pandas.core import (\n"
     ]
    },
    {
     "data": {
      "text/html": [
       "<div>\n",
       "<style scoped>\n",
       "    .dataframe tbody tr th:only-of-type {\n",
       "        vertical-align: middle;\n",
       "    }\n",
       "\n",
       "    .dataframe tbody tr th {\n",
       "        vertical-align: top;\n",
       "    }\n",
       "\n",
       "    .dataframe thead th {\n",
       "        text-align: right;\n",
       "    }\n",
       "</style>\n",
       "<table border=\"1\" class=\"dataframe\">\n",
       "  <thead>\n",
       "    <tr style=\"text-align: right;\">\n",
       "      <th></th>\n",
       "      <th>Name</th>\n",
       "      <th>Sector</th>\n",
       "    </tr>\n",
       "  </thead>\n",
       "  <tbody>\n",
       "    <tr>\n",
       "      <th>0</th>\n",
       "      <td>Rhaul</td>\n",
       "      <td>IT</td>\n",
       "    </tr>\n",
       "    <tr>\n",
       "      <th>1</th>\n",
       "      <td>Priya</td>\n",
       "      <td>HR</td>\n",
       "    </tr>\n",
       "    <tr>\n",
       "      <th>2</th>\n",
       "      <td>Shyam</td>\n",
       "      <td>IT</td>\n",
       "    </tr>\n",
       "  </tbody>\n",
       "</table>\n",
       "</div>"
      ],
      "text/plain": [
       "    Name Sector\n",
       "0  Rhaul     IT\n",
       "1  Priya     HR\n",
       "2  Shyam     IT"
      ]
     },
     "execution_count": 3,
     "metadata": {},
     "output_type": "execute_result"
    }
   ],
   "source": [
    "import pandas as pd\n",
    "dataset = pd.DataFrame(dt)\n",
    "dataset"
   ]
  },
  {
   "cell_type": "code",
   "execution_count": 4,
   "id": "cc9ec786",
   "metadata": {},
   "outputs": [],
   "source": [
    "import pickle\n",
    "\n",
    "f4 = open(file=\"dict.pkl\",mode=\"wb\")\n",
    "\n",
    "pickle.dump(dataset,f4)\n",
    "\n",
    "f4.close()"
   ]
  },
  {
   "cell_type": "code",
   "execution_count": 5,
   "id": "988cd5b0",
   "metadata": {},
   "outputs": [],
   "source": [
    "import pickle\n",
    "\n",
    "f4 = open(file=\"dict.sav\",mode=\"wb\")\n",
    "\n",
    "pickle.dump(dataset,f4)\n",
    "\n",
    "f4.close()"
   ]
  },
  {
   "cell_type": "code",
   "execution_count": null,
   "id": "a5d456fa",
   "metadata": {},
   "outputs": [],
   "source": []
  },
  {
   "cell_type": "code",
   "execution_count": 6,
   "id": "671bd321",
   "metadata": {},
   "outputs": [],
   "source": [
    "with open(file=\"dict.sav\", mode = \"rb\") as f:\n",
    "    result = pickle.load(f)"
   ]
  },
  {
   "cell_type": "code",
   "execution_count": 7,
   "id": "2f2fc84f",
   "metadata": {},
   "outputs": [
    {
     "data": {
      "text/html": [
       "<div>\n",
       "<style scoped>\n",
       "    .dataframe tbody tr th:only-of-type {\n",
       "        vertical-align: middle;\n",
       "    }\n",
       "\n",
       "    .dataframe tbody tr th {\n",
       "        vertical-align: top;\n",
       "    }\n",
       "\n",
       "    .dataframe thead th {\n",
       "        text-align: right;\n",
       "    }\n",
       "</style>\n",
       "<table border=\"1\" class=\"dataframe\">\n",
       "  <thead>\n",
       "    <tr style=\"text-align: right;\">\n",
       "      <th></th>\n",
       "      <th>Name</th>\n",
       "      <th>Sector</th>\n",
       "    </tr>\n",
       "  </thead>\n",
       "  <tbody>\n",
       "    <tr>\n",
       "      <th>0</th>\n",
       "      <td>Rhaul</td>\n",
       "      <td>IT</td>\n",
       "    </tr>\n",
       "    <tr>\n",
       "      <th>1</th>\n",
       "      <td>Priya</td>\n",
       "      <td>HR</td>\n",
       "    </tr>\n",
       "    <tr>\n",
       "      <th>2</th>\n",
       "      <td>Shyam</td>\n",
       "      <td>IT</td>\n",
       "    </tr>\n",
       "  </tbody>\n",
       "</table>\n",
       "</div>"
      ],
      "text/plain": [
       "    Name Sector\n",
       "0  Rhaul     IT\n",
       "1  Priya     HR\n",
       "2  Shyam     IT"
      ]
     },
     "execution_count": 7,
     "metadata": {},
     "output_type": "execute_result"
    }
   ],
   "source": [
    "result"
   ]
  },
  {
   "cell_type": "markdown",
   "id": "a2f0ddc3",
   "metadata": {},
   "source": [
    "# JSON "
   ]
  },
  {
   "cell_type": "code",
   "execution_count": 8,
   "id": "811b9754",
   "metadata": {},
   "outputs": [],
   "source": [
    "import json\n",
    "\n",
    "person_dict = {\"name\": \"Bob\",\"languages\": [\"English\", \"French\"],\"married\": True,\"age\": 32}\n",
    "\n",
    "\n",
    "f1 =open(file = \"person.json\",mode=\"w\")\n",
    "\n",
    "json.dump(person_dict,f1)\n",
    "\n",
    "f1.close()"
   ]
  },
  {
   "cell_type": "code",
   "execution_count": null,
   "id": "e08b5bdd",
   "metadata": {},
   "outputs": [],
   "source": [
    "with open('person.json', 'w') as json_file:\n",
    "  json.dump(person_dict, json_file)"
   ]
  },
  {
   "cell_type": "code",
   "execution_count": 9,
   "id": "37372d92",
   "metadata": {},
   "outputs": [
    {
     "name": "stdout",
     "output_type": "stream",
     "text": [
      "{'name': 'Bob', 'languages': ['English', 'French'], 'married': True, 'age': 32}\n"
     ]
    }
   ],
   "source": [
    "with open('person.json', 'r') as f:\n",
    "  data = json.load(f,)\n",
    "\n",
    "\n",
    "print(data)"
   ]
  },
  {
   "cell_type": "code",
   "execution_count": 10,
   "id": "ce98982e",
   "metadata": {},
   "outputs": [
    {
     "name": "stdout",
     "output_type": "stream",
     "text": [
      "{\n",
      "    \"name\": \"Bob\",\n",
      "    \"languages\": [\n",
      "        \"English\",\n",
      "        \"French\"\n",
      "    ],\n",
      "    \"married\": true,\n",
      "    \"age\": 32\n",
      "}\n"
     ]
    }
   ],
   "source": [
    "print(json.dumps(data,indent=4))"
   ]
  },
  {
   "cell_type": "code",
   "execution_count": 11,
   "id": "31f896ef",
   "metadata": {},
   "outputs": [
    {
     "name": "stdout",
     "output_type": "stream",
     "text": [
      "{\n",
      "  \"name\": \"Bob\",\n",
      "  \"languages\": [\n",
      "    \"English\",\n",
      "    \"French\"\n",
      "  ]\n",
      "}\n"
     ]
    }
   ],
   "source": [
    "import json\n",
    "\n",
    "person = '{\"name\": \"Bob\", \"languages\": [\"English\", \"French\"]}'\n",
    "person_dict = json.loads(person)\n",
    "\n",
    "\n",
    "print(json.dumps(person_dict, indent = 2))\n"
   ]
  },
  {
   "cell_type": "markdown",
   "id": "215f3fee",
   "metadata": {},
   "source": [
    "# Working with CSV"
   ]
  },
  {
   "cell_type": "code",
   "execution_count": 14,
   "id": "9e1d213d",
   "metadata": {},
   "outputs": [],
   "source": [
    "import csv\n",
    "\n",
    "field = ['Name',\"Year\",\"Branch\",\"Marks\"]\n",
    "\n",
    "row = [{'Name':\"Sagar\",\"Year\":2020,\"Branch\":\"IT\",\"Marks\":89},\n",
    "       {'Name': \"Mukesh\",\"Year\":2021,\"Branch\":\"CS\",\"Marks\":85},\n",
    "       {'Name':\"Priya\",\"Year\":2019,\"Branch\":\"MBA\",\"Marks\":65},\n",
    "       {'Name':\"Rahul\",\"Year\":2020,\"Branch\":\"BSc\",\"Marks\":88}]\n",
    "\n",
    "\n",
    "with open(file=\"students.csv\",mode = \"w\", newline ='') as f1:\n",
    "    writer = csv.DictWriter(f1,fieldnames=field)\n",
    "    \n",
    "    writer.writeheader()\n",
    "    writer.writerows(row)"
   ]
  },
  {
   "cell_type": "code",
   "execution_count": 13,
   "id": "40f72b41",
   "metadata": {},
   "outputs": [
    {
     "data": {
      "text/plain": [
       "[{'Name': 'Sagar', 'Year': 2020, 'Branch': 'IT', 'Marks': 89},\n",
       " {'Name': 'Mukesh', 'Year': 2021, 'Branch': 'CS', 'Marks': 85},\n",
       " {'Name': 'Priya', 'Year': 2019, 'Branch': 'MBA', 'Marks': 65},\n",
       " {'Name': 'Rahul', 'Year': 2020, 'Branch': 'BSc', 'Marks': 88}]"
      ]
     },
     "execution_count": 13,
     "metadata": {},
     "output_type": "execute_result"
    }
   ],
   "source": [
    "row"
   ]
  },
  {
   "cell_type": "code",
   "execution_count": 15,
   "id": "a7d8675d",
   "metadata": {},
   "outputs": [],
   "source": [
    "row = [{'Name':\"Manish\",\"Year\":2024,\"Branch\":\"MAth\",\"Marks\":65}]\n",
    "\n",
    "with open(file=\"students.csv\",mode = \"a\", newline ='') as f1:\n",
    "    writer = csv.DictWriter(f1,fieldnames=field)\n",
    "    writer.writerows(row)"
   ]
  },
  {
   "cell_type": "code",
   "execution_count": null,
   "id": "d09b78c3",
   "metadata": {},
   "outputs": [],
   "source": []
  },
  {
   "cell_type": "code",
   "execution_count": 16,
   "id": "2716ecf2",
   "metadata": {},
   "outputs": [],
   "source": [
    "n = [\"3-idiot\",\"KGF-2\",\"Pushpa\",\"RRR\",\"83\"]\n",
    "act = [\"Amir Khan\",\"Yash\",\"Allu Arjun\",\"jr NTR & Ram Charan\",\"Ranveer Singh\"]\n",
    "actress = [\"Kareena Kapoor\",\"Srinidhy Shetty\",\"Rashmika Mandana\",\"Alia Bhatt\",\"Dipika Padukod\"]\n",
    "coll = [200,500,400,450,150]\n",
    "\n",
    "\n",
    "movies = {\"Name\":n,\"Actor\":act,\"Actress\":actress,\"Collection in cr\":coll}"
   ]
  },
  {
   "cell_type": "code",
   "execution_count": 17,
   "id": "a87d84c5",
   "metadata": {},
   "outputs": [
    {
     "data": {
      "text/html": [
       "<div>\n",
       "<style scoped>\n",
       "    .dataframe tbody tr th:only-of-type {\n",
       "        vertical-align: middle;\n",
       "    }\n",
       "\n",
       "    .dataframe tbody tr th {\n",
       "        vertical-align: top;\n",
       "    }\n",
       "\n",
       "    .dataframe thead th {\n",
       "        text-align: right;\n",
       "    }\n",
       "</style>\n",
       "<table border=\"1\" class=\"dataframe\">\n",
       "  <thead>\n",
       "    <tr style=\"text-align: right;\">\n",
       "      <th></th>\n",
       "      <th>Name</th>\n",
       "      <th>Actor</th>\n",
       "      <th>Actress</th>\n",
       "      <th>Collection in cr</th>\n",
       "    </tr>\n",
       "  </thead>\n",
       "  <tbody>\n",
       "    <tr>\n",
       "      <th>0</th>\n",
       "      <td>3-idiot</td>\n",
       "      <td>Amir Khan</td>\n",
       "      <td>Kareena Kapoor</td>\n",
       "      <td>200</td>\n",
       "    </tr>\n",
       "    <tr>\n",
       "      <th>1</th>\n",
       "      <td>KGF-2</td>\n",
       "      <td>Yash</td>\n",
       "      <td>Srinidhy Shetty</td>\n",
       "      <td>500</td>\n",
       "    </tr>\n",
       "    <tr>\n",
       "      <th>2</th>\n",
       "      <td>Pushpa</td>\n",
       "      <td>Allu Arjun</td>\n",
       "      <td>Rashmika Mandana</td>\n",
       "      <td>400</td>\n",
       "    </tr>\n",
       "    <tr>\n",
       "      <th>3</th>\n",
       "      <td>RRR</td>\n",
       "      <td>jr NTR &amp; Ram Charan</td>\n",
       "      <td>Alia Bhatt</td>\n",
       "      <td>450</td>\n",
       "    </tr>\n",
       "    <tr>\n",
       "      <th>4</th>\n",
       "      <td>83</td>\n",
       "      <td>Ranveer Singh</td>\n",
       "      <td>Dipika Padukod</td>\n",
       "      <td>150</td>\n",
       "    </tr>\n",
       "  </tbody>\n",
       "</table>\n",
       "</div>"
      ],
      "text/plain": [
       "      Name                Actor           Actress  Collection in cr\n",
       "0  3-idiot            Amir Khan    Kareena Kapoor               200\n",
       "1    KGF-2                 Yash   Srinidhy Shetty               500\n",
       "2   Pushpa           Allu Arjun  Rashmika Mandana               400\n",
       "3      RRR  jr NTR & Ram Charan        Alia Bhatt               450\n",
       "4       83        Ranveer Singh    Dipika Padukod               150"
      ]
     },
     "execution_count": 17,
     "metadata": {},
     "output_type": "execute_result"
    }
   ],
   "source": [
    "import pandas as pd\n",
    "dataset = pd.DataFrame(movies)\n",
    "dataset"
   ]
  },
  {
   "cell_type": "code",
   "execution_count": 18,
   "id": "93c9d043",
   "metadata": {},
   "outputs": [
    {
     "data": {
      "text/plain": [
       "pandas.core.frame.DataFrame"
      ]
     },
     "execution_count": 18,
     "metadata": {},
     "output_type": "execute_result"
    }
   ],
   "source": [
    "type(dataset)"
   ]
  },
  {
   "cell_type": "code",
   "execution_count": 19,
   "id": "c1990a2b",
   "metadata": {},
   "outputs": [],
   "source": [
    "dataset.to_csv(\"movies.csv\")"
   ]
  },
  {
   "cell_type": "code",
   "execution_count": 20,
   "id": "1425f80f",
   "metadata": {},
   "outputs": [],
   "source": [
    "dataset.to_excel(\"movies.xlsx\")"
   ]
  },
  {
   "cell_type": "code",
   "execution_count": 21,
   "id": "06b4c3b0",
   "metadata": {},
   "outputs": [
    {
     "name": "stdout",
     "output_type": "stream",
     "text": [
      "['0', '3-idiot', 'Amir Khan', 'Kareena Kapoor', '200']\n",
      "['1', 'KGF-2', 'Yash', 'Srinidhy Shetty', '500']\n",
      "['2', 'Pushpa', 'Allu Arjun', 'Rashmika Mandana', '400']\n",
      "['3', 'RRR', 'jr NTR & Ram Charan', 'Alia Bhatt', '450']\n",
      "['4', '83', 'Ranveer Singh', 'Dipika Padukod', '150']\n"
     ]
    }
   ],
   "source": [
    "import csv\n",
    "f1 = open(\"movies.csv\",mode=\"r\")\n",
    "reader = csv.reader(f1)\n",
    "\n",
    "header = next(reader)\n",
    "for i in reader:\n",
    "    print(i)\n",
    "    \n",
    "f1.close()"
   ]
  },
  {
   "cell_type": "code",
   "execution_count": null,
   "id": "fec1dd62",
   "metadata": {},
   "outputs": [],
   "source": []
  }
 ],
 "metadata": {
  "kernelspec": {
   "display_name": "Python 3 (ipykernel)",
   "language": "python",
   "name": "python3"
  },
  "language_info": {
   "codemirror_mode": {
    "name": "ipython",
    "version": 3
   },
   "file_extension": ".py",
   "mimetype": "text/x-python",
   "name": "python",
   "nbconvert_exporter": "python",
   "pygments_lexer": "ipython3",
   "version": "3.11.5"
  }
 },
 "nbformat": 4,
 "nbformat_minor": 5
}
