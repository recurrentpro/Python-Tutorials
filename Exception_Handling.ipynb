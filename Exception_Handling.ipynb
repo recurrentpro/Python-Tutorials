{
 "cells": [
  {
   "cell_type": "code",
   "execution_count": null,
   "id": "bfa5937a",
   "metadata": {},
   "outputs": [],
   "source": [
    "#Try, Except, finally, else"
   ]
  },
  {
   "cell_type": "code",
   "execution_count": 4,
   "id": "7ffb227e",
   "metadata": {},
   "outputs": [
    {
     "name": "stdout",
     "output_type": "stream",
     "text": [
      "Enter the first number: t\n",
      "Infinity\n"
     ]
    }
   ],
   "source": [
    "try:\n",
    "    a = int(input(\"Enter the first number: \"))\n",
    "    b = int(input(\"Enter the second number: \"))\n",
    "\n",
    "    r = a/b\n",
    "\n",
    "    print(\"Answer is: \", r)\n",
    "    \n",
    "except Exception:\n",
    "    print(\"Infinity\")"
   ]
  },
  {
   "cell_type": "code",
   "execution_count": 10,
   "id": "2d162f59",
   "metadata": {},
   "outputs": [
    {
     "name": "stdout",
     "output_type": "stream",
     "text": [
      "Enter the first number: 4\n",
      "Enter the second number: 0\n",
      "Please enter any non-zero values\n"
     ]
    }
   ],
   "source": [
    "try:\n",
    "    a = int(input(\"Enter the first number: \"))\n",
    "    b = int(input(\"Enter the second number: \"))\n",
    "\n",
    "    r = a/b\n",
    "\n",
    "    print(\"Answer is: \", r)\n",
    "    \n",
    "except ValueError:\n",
    "    print(\"Please enter any numeric number\")\n",
    "except ZeroDivisionError:\n",
    "    print(\"Please enter any non-zero values\")\n",
    "    \n",
    "except Exception:\n",
    "    print(\"Invalid!!\")"
   ]
  },
  {
   "cell_type": "code",
   "execution_count": 14,
   "id": "858f2961",
   "metadata": {},
   "outputs": [
    {
     "name": "stdout",
     "output_type": "stream",
     "text": [
      "Enter the first number: 7\n",
      "Enter the second number: 0\n",
      "Invalid:  division by zero\n"
     ]
    }
   ],
   "source": [
    "try:\n",
    "    a = int(input(\"Enter the first number: \"))\n",
    "    b = int(input(\"Enter the second number: \"))\n",
    "\n",
    "    r = a/b\n",
    "\n",
    "    print(\"Answer is: \", r)\n",
    "    \n",
    "except Exception as e:\n",
    "    print(\"Invalid: \", e)"
   ]
  },
  {
   "cell_type": "code",
   "execution_count": 17,
   "id": "8c0c180c",
   "metadata": {},
   "outputs": [
    {
     "name": "stdout",
     "output_type": "stream",
     "text": [
      "Enter the first number: w\n",
      "Invalid:  invalid literal for int() with base 10: 'w'\n",
      "Enter the first number: 2\n",
      "Enter the second number: 0\n",
      "Invalid:  division by zero\n",
      "Enter the first number: 4\n",
      "Enter the second number: 7\n",
      "Answer is:  0.5714285714285714\n",
      "Program successfully done!!\n"
     ]
    }
   ],
   "source": [
    "while True:\n",
    "    try:\n",
    "        a = int(input(\"Enter the first number: \"))\n",
    "        b = int(input(\"Enter the second number: \"))\n",
    "\n",
    "        r = a/b\n",
    "\n",
    "        print(\"Answer is: \", r)\n",
    "\n",
    "    except Exception as e:\n",
    "        print(\"Invalid: \", e)\n",
    "\n",
    "    else:\n",
    "        print(\"Program successfully done!!\")\n",
    "        break"
   ]
  },
  {
   "cell_type": "code",
   "execution_count": null,
   "id": "7bb0932d",
   "metadata": {},
   "outputs": [],
   "source": [
    "try:\n",
    "    a = int(input(\"Enter the first number: \"))\n",
    "    b = int(input(\"Enter the second number: \"))\n",
    "\n",
    "    r = a/b\n",
    "\n",
    "    print(\"Answer is: \", r)\n",
    "    \n",
    "except ValueError:\n",
    "    print(\"Please enter any numeric number\")\n",
    "except ZeroDivisionError:\n",
    "    print(\"Please enter any non-zero values\")\n",
    "    \n",
    "except Exception:\n",
    "    print(\"Invalid!!\")"
   ]
  },
  {
   "cell_type": "markdown",
   "id": "8ba395bb",
   "metadata": {},
   "source": [
    "# Nested Exception Handling"
   ]
  },
  {
   "cell_type": "code",
   "execution_count": 4,
   "id": "7cfdb984",
   "metadata": {},
   "outputs": [
    {
     "name": "stdout",
     "output_type": "stream",
     "text": [
      "Enter the first number: t\n",
      "Error!!\n"
     ]
    }
   ],
   "source": [
    "try:\n",
    "    try:\n",
    "        a = int(input(\"Enter the first number: \"))\n",
    "        b = int(input(\"Enter the second number: \"))\n",
    "\n",
    "        r = a/b\n",
    "\n",
    "        print(\"Answer is: \", r)\n",
    "\n",
    "    except ValueError:\n",
    "        print(\"Please enter any numeric number\")\n",
    "        \n",
    "    except ZeroDivisionError:\n",
    "        print(\"Please enter any non-zero values\")\n",
    "        \n",
    "except Exception:\n",
    "    print(\"Error!!\")\n"
   ]
  },
  {
   "cell_type": "code",
   "execution_count": null,
   "id": "b8aaaf58",
   "metadata": {},
   "outputs": [],
   "source": []
  },
  {
   "cell_type": "markdown",
   "id": "16a2598b",
   "metadata": {},
   "source": [
    "# Random Number: Guess"
   ]
  },
  {
   "cell_type": "code",
   "execution_count": null,
   "id": "26a02baf",
   "metadata": {},
   "outputs": [],
   "source": [
    "import random\n",
    "\n",
    "num = random.randrange(1, 100)\n",
    "\n",
    "count = 1\n",
    "while True:\n",
    "    try:\n",
    "        user = int(input(\"Please guess the number: \"))\n",
    "\n",
    "        if user>num:\n",
    "            print(\"your number is greater than random number: \")\n",
    "        if user<num:\n",
    "            print(\"your number is less than random number: \")\n",
    "\n",
    "        if user == num:\n",
    "            print(f\"Yeeee, you got the random number after {count} attempt \")\n",
    "            break\n",
    "    except Exception:\n",
    "        print(\"Invalid!!\")\n",
    "        \n",
    "    else:\n",
    "        count = count+1\n",
    "        \n",
    "    finally:\n",
    "        print(\"----------------Check point---------------\")\n",
    "        "
   ]
  },
  {
   "cell_type": "code",
   "execution_count": null,
   "id": "20bc3342",
   "metadata": {},
   "outputs": [],
   "source": []
  },
  {
   "cell_type": "code",
   "execution_count": null,
   "id": "4fa7a00a",
   "metadata": {},
   "outputs": [],
   "source": []
  },
  {
   "cell_type": "code",
   "execution_count": null,
   "id": "95b719dc",
   "metadata": {},
   "outputs": [],
   "source": []
  },
  {
   "cell_type": "code",
   "execution_count": null,
   "id": "b76ff180",
   "metadata": {},
   "outputs": [],
   "source": []
  },
  {
   "cell_type": "code",
   "execution_count": null,
   "id": "768f3544",
   "metadata": {},
   "outputs": [],
   "source": []
  },
  {
   "cell_type": "code",
   "execution_count": null,
   "id": "26f1807f",
   "metadata": {},
   "outputs": [],
   "source": []
  },
  {
   "cell_type": "code",
   "execution_count": null,
   "id": "15023c5b",
   "metadata": {},
   "outputs": [],
   "source": []
  }
 ],
 "metadata": {
  "kernelspec": {
   "display_name": "Python 3 (ipykernel)",
   "language": "python",
   "name": "python3"
  },
  "language_info": {
   "codemirror_mode": {
    "name": "ipython",
    "version": 3
   },
   "file_extension": ".py",
   "mimetype": "text/x-python",
   "name": "python",
   "nbconvert_exporter": "python",
   "pygments_lexer": "ipython3",
   "version": "3.11.5"
  }
 },
 "nbformat": 4,
 "nbformat_minor": 5
}
